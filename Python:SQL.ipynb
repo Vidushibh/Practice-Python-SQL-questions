{
 "cells": [
  {
   "cell_type": "markdown",
   "metadata": {},
   "source": [
    "##### Question 1. Write a Python code to determine if two strings are isomorphic.\n",
    "##### To be isomorphic, each character in the first string must uniquely map to a character in the second string, and vice versa."
   ]
  },
  {
   "cell_type": "code",
   "execution_count": 5,
   "metadata": {},
   "outputs": [
    {
     "name": "stdout",
     "output_type": "stream",
     "text": [
      "Non-Isomorphic\n"
     ]
    }
   ],
   "source": [
    "def is_isomorphic(string1, string2):\n",
    "    if len(string1) == len(string2):\n",
    "        map_s1_to_s2 = {}\n",
    "        map_s2_to_s1 = {}\n",
    "    \n",
    "        is_isomorphic = True\n",
    "    \n",
    "        for s1 , s2 in zip(string1, string2):\n",
    "            if s1 in map_s1_to_s2:\n",
    "                if map_s1_to_s2[s1] != s2:\n",
    "                    is_isomorphic = False\n",
    "                    break\n",
    "            else:\n",
    "                map_s1_to_s2[s1] = s2\n",
    "                \n",
    "            if s2 in map_s2_to_s1:\n",
    "                if map_s2_to_s1[s2] != s1:\n",
    "                    is_isomorphic = False\n",
    "                    break\n",
    "            else:\n",
    "                map_s2_to_s1[s2] = s1\n",
    "    \n",
    "        if is_isomorphic == False:\n",
    "            print(\"Non-Isomorphic\")\n",
    "        else:\n",
    "            print(\"Isomorphic\")\n",
    "    else:\n",
    "        print(\"Non-Isomorphic\")\n",
    "            \n",
    "is_isomorphic('eggs', 'add')"
   ]
  },
  {
   "cell_type": "markdown",
   "metadata": {},
   "source": [
    "##### list1 = [4,7,8,1,3,2,7,7,9]\n",
    "##### Question 2. write a python code to get it sorted in the ascending order without using pre-defined functions ?"
   ]
  },
  {
   "cell_type": "code",
   "execution_count": 49,
   "metadata": {},
   "outputs": [
    {
     "name": "stdout",
     "output_type": "stream",
     "text": [
      "[1, 2, 7, 7, 7, 8, 9, 9, 35]\n"
     ]
    }
   ],
   "source": [
    "list1 = [9,7,8,1,35,2,7,7,9]\n",
    "# we can approach this problem by using Bubble sort\n",
    "n = len(list1)\n",
    "# Run a loop on all elements of the list\n",
    "for i in range(n):\n",
    "    # Run a loop on all the elements except for last element which is already sorted\n",
    "    for j in range(0,n-i-1):\n",
    "        if list1[j] > list1[j+1]:\n",
    "            # swap the elemets if the element is greater than the next element\n",
    "            list1[j],list1[j+1] = list1[j+1],list1[j]\n",
    "        else:\n",
    "            continue\n",
    "        \n",
    "print(list1)    "
   ]
  },
  {
   "cell_type": "code",
   "execution_count": 60,
   "metadata": {},
   "outputs": [
    {
     "name": "stdout",
     "output_type": "stream",
     "text": [
      "[1, 2, 3, 4, 7, 7, 7, 8, 9]\n"
     ]
    }
   ],
   "source": [
    "list1 = [4, 7, 8, 1, 3, 2, 7, 7, 9]\n",
    "\n",
    "# Let's approach this problem by selection sort\n",
    "\n",
    "# Initialize the minimum index to be that of first element\n",
    "for i in range(n):\n",
    "    min_index = i\n",
    "\n",
    "    for j in range(i+1,len(list1)):\n",
    "        if list1[j] < list1[min_index]:\n",
    "            min_index = j\n",
    "    list1[i],list1[min_index] = list1[min_index],list1[i]\n",
    "    \n",
    "    \n",
    "print(list1)\n"
   ]
  },
  {
   "cell_type": "markdown",
   "metadata": {},
   "source": [
    "#### Question3 Write a query to find the total sales for each department and identify the highest-selling department from the following data:"
   ]
  },
  {
   "cell_type": "code",
   "execution_count": 10,
   "metadata": {},
   "outputs": [],
   "source": [
    "# Sample data for Dept Table\n",
    "dept_data = [(1, 'A', 'XYZ'),\n",
    "             (2, 'B', 'ABC'),\n",
    "             (3, 'C', 'DEF'),\n",
    "             (4, 'D', 'HIJ')]\n",
    "\n",
    "# Sample data for Sales Table\n",
    "sales_data = [('1A', 2, 300),\n",
    "              ('2A', 3, 400),\n",
    "              ('3B', 3, 200),\n",
    "              ('4A', 4, 500)]"
   ]
  },
  {
   "cell_type": "code",
   "execution_count": 9,
   "metadata": {},
   "outputs": [
    {
     "name": "stdout",
     "output_type": "stream",
     "text": [
      "   Dept Name Desc  Amount\n",
      "1     3    C  DEF     600\n"
     ]
    }
   ],
   "source": [
    "import pandas as pd\n",
    "\n",
    "dept_df = pd.DataFrame(dept_data, columns=[\"ID\", \"Name\", \"Desc\"])\n",
    "sales_df = pd.DataFrame(sales_data, columns=[\"Trans_ID\", \"Dept\", \"Amount\"])\n",
    "\n",
    "total_sales_df = sales_df.groupby(\"Dept\")[\"Amount\"].sum().reset_index()\n",
    "\n",
    "result_df = pd.merge(total_sales_df, dept_df, left_on=\"Dept\", right_on=\"ID\")\n",
    "\n",
    "max_sales_df = result_df[result_df[\"Amount\"] == result_df[\"Amount\"].max()]\n",
    "\n",
    "final_result_df = max_sales_df[[\"Dept\", \"Name\", \"Desc\", \"Amount\"]]\n",
    "\n",
    "print(final_result_df)\n"
   ]
  },
  {
   "cell_type": "markdown",
   "metadata": {},
   "source": [
    "#### Question Write a query to calculate the number of distinct mobile numbers for each username from the following input:\n",
    "#### input\n",
    "#### username, mobile\n",
    "#### user1,999999991:888888882\n",
    "#### user3,777777771\n",
    "#### user2,777777234:823232351\n",
    "#### user5,734452343:943433434:834323434\n",
    "#### user1,999999991:9994433777\n",
    "\n",
    "#### output\n",
    "#### username mobile_count\n",
    "#### user1 3\n",
    "#### user2 2\n",
    "#### user3 1"
   ]
  },
  {
   "cell_type": "markdown",
   "metadata": {},
   "source": [
    "Using SQL\n",
    "\n",
    "WITH NO_MOBILE AS(\n",
    "\n",
    "    SELECT username, mobile,\n",
    "\n",
    "    GENERATE_SERIES(1,length(mobile)-length(REPLACE(mobile,:,'')))+1) as n\n",
    "\n",
    "    FROM input_tab),\n",
    "\n",
    "    mobile_no AS(\n",
    "\n",
    "        SELECT, username, SPLIT_VALUE(mobile,':',n) as number\n",
    "\n",
    "        FROM NO_MOBILE)\n",
    "\n",
    "    Mobile AS(\n",
    "\n",
    "        SELECT username, TRIM(number) as mobile\n",
    "\n",
    "        FROM mobile_no\n",
    "    )\n",
    "\n",
    "SELECT m.username, distinct count(m.mobile) as mobile_count\n",
    "\n",
    "FROM Mobile m\n",
    "\n",
    "on i.username = m.username\n",
    "\n",
    "group by m.username\n",
    "\n",
    "order by m.username"
   ]
  },
  {
   "cell_type": "code",
   "execution_count": 29,
   "metadata": {},
   "outputs": [
    {
     "data": {
      "text/html": [
       "<div>\n",
       "<style scoped>\n",
       "    .dataframe tbody tr th:only-of-type {\n",
       "        vertical-align: middle;\n",
       "    }\n",
       "\n",
       "    .dataframe tbody tr th {\n",
       "        vertical-align: top;\n",
       "    }\n",
       "\n",
       "    .dataframe thead th {\n",
       "        text-align: right;\n",
       "    }\n",
       "</style>\n",
       "<table border=\"1\" class=\"dataframe\">\n",
       "  <thead>\n",
       "    <tr style=\"text-align: right;\">\n",
       "      <th></th>\n",
       "      <th>username</th>\n",
       "      <th>mobile</th>\n",
       "    </tr>\n",
       "  </thead>\n",
       "  <tbody>\n",
       "    <tr>\n",
       "      <th>0</th>\n",
       "      <td>user1</td>\n",
       "      <td>999999991:888888882</td>\n",
       "    </tr>\n",
       "    <tr>\n",
       "      <th>1</th>\n",
       "      <td>user3</td>\n",
       "      <td>777777771</td>\n",
       "    </tr>\n",
       "    <tr>\n",
       "      <th>2</th>\n",
       "      <td>user2</td>\n",
       "      <td>777777234:823232351</td>\n",
       "    </tr>\n",
       "    <tr>\n",
       "      <th>3</th>\n",
       "      <td>user5</td>\n",
       "      <td>734452343:943433434:834323434</td>\n",
       "    </tr>\n",
       "    <tr>\n",
       "      <th>4</th>\n",
       "      <td>user1</td>\n",
       "      <td>999999991:9994433777</td>\n",
       "    </tr>\n",
       "  </tbody>\n",
       "</table>\n",
       "</div>"
      ],
      "text/plain": [
       "  username                         mobile\n",
       "0    user1            999999991:888888882\n",
       "1    user3                      777777771\n",
       "2    user2            777777234:823232351\n",
       "3    user5  734452343:943433434:834323434\n",
       "4    user1           999999991:9994433777"
      ]
     },
     "execution_count": 29,
     "metadata": {},
     "output_type": "execute_result"
    }
   ],
   "source": [
    "import pandas as pd\n",
    "\n",
    "data = {\n",
    "    'username' : ['user1','user3','user2','user5','user1'],\n",
    "    'mobile'   :['999999991:888888882', '777777771', '777777234:823232351', '734452343:943433434:834323434', '999999991:9994433777']}\n",
    "\n",
    "dataframe = pd.DataFrame(data)\n",
    "dataframe"
   ]
  },
  {
   "cell_type": "code",
   "execution_count": 30,
   "metadata": {},
   "outputs": [
    {
     "data": {
      "text/html": [
       "<div>\n",
       "<style scoped>\n",
       "    .dataframe tbody tr th:only-of-type {\n",
       "        vertical-align: middle;\n",
       "    }\n",
       "\n",
       "    .dataframe tbody tr th {\n",
       "        vertical-align: top;\n",
       "    }\n",
       "\n",
       "    .dataframe thead th {\n",
       "        text-align: right;\n",
       "    }\n",
       "</style>\n",
       "<table border=\"1\" class=\"dataframe\">\n",
       "  <thead>\n",
       "    <tr style=\"text-align: right;\">\n",
       "      <th></th>\n",
       "      <th>username</th>\n",
       "      <th>mobile</th>\n",
       "    </tr>\n",
       "  </thead>\n",
       "  <tbody>\n",
       "    <tr>\n",
       "      <th>0</th>\n",
       "      <td>user1</td>\n",
       "      <td>999999991</td>\n",
       "    </tr>\n",
       "    <tr>\n",
       "      <th>1</th>\n",
       "      <td>user1</td>\n",
       "      <td>888888882</td>\n",
       "    </tr>\n",
       "    <tr>\n",
       "      <th>2</th>\n",
       "      <td>user3</td>\n",
       "      <td>777777771</td>\n",
       "    </tr>\n",
       "    <tr>\n",
       "      <th>3</th>\n",
       "      <td>user2</td>\n",
       "      <td>777777234</td>\n",
       "    </tr>\n",
       "    <tr>\n",
       "      <th>4</th>\n",
       "      <td>user2</td>\n",
       "      <td>823232351</td>\n",
       "    </tr>\n",
       "    <tr>\n",
       "      <th>5</th>\n",
       "      <td>user5</td>\n",
       "      <td>734452343</td>\n",
       "    </tr>\n",
       "    <tr>\n",
       "      <th>6</th>\n",
       "      <td>user5</td>\n",
       "      <td>943433434</td>\n",
       "    </tr>\n",
       "    <tr>\n",
       "      <th>7</th>\n",
       "      <td>user5</td>\n",
       "      <td>834323434</td>\n",
       "    </tr>\n",
       "    <tr>\n",
       "      <th>8</th>\n",
       "      <td>user1</td>\n",
       "      <td>999999991</td>\n",
       "    </tr>\n",
       "    <tr>\n",
       "      <th>9</th>\n",
       "      <td>user1</td>\n",
       "      <td>9994433777</td>\n",
       "    </tr>\n",
       "  </tbody>\n",
       "</table>\n",
       "</div>"
      ],
      "text/plain": [
       "  username      mobile\n",
       "0    user1   999999991\n",
       "1    user1   888888882\n",
       "2    user3   777777771\n",
       "3    user2   777777234\n",
       "4    user2   823232351\n",
       "5    user5   734452343\n",
       "6    user5   943433434\n",
       "7    user5   834323434\n",
       "8    user1   999999991\n",
       "9    user1  9994433777"
      ]
     },
     "execution_count": 30,
     "metadata": {},
     "output_type": "execute_result"
    }
   ],
   "source": [
    "expanded_row = []\n",
    "\n",
    "for index, row in dataframe.iterrows():\n",
    "    mobiles = row['mobile'].split(':')\n",
    "    for no in mobiles:\n",
    "        expanded_row.append((row['username'],no.strip()))\n",
    "df = pd.DataFrame(expanded_row, columns=['username','mobile'])\n",
    "df"
   ]
  },
  {
   "cell_type": "code",
   "execution_count": 32,
   "metadata": {},
   "outputs": [
    {
     "data": {
      "text/html": [
       "<div>\n",
       "<style scoped>\n",
       "    .dataframe tbody tr th:only-of-type {\n",
       "        vertical-align: middle;\n",
       "    }\n",
       "\n",
       "    .dataframe tbody tr th {\n",
       "        vertical-align: top;\n",
       "    }\n",
       "\n",
       "    .dataframe thead th {\n",
       "        text-align: right;\n",
       "    }\n",
       "</style>\n",
       "<table border=\"1\" class=\"dataframe\">\n",
       "  <thead>\n",
       "    <tr style=\"text-align: right;\">\n",
       "      <th></th>\n",
       "      <th>username</th>\n",
       "      <th>mobile</th>\n",
       "    </tr>\n",
       "  </thead>\n",
       "  <tbody>\n",
       "    <tr>\n",
       "      <th>0</th>\n",
       "      <td>user1</td>\n",
       "      <td>999999991</td>\n",
       "    </tr>\n",
       "    <tr>\n",
       "      <th>1</th>\n",
       "      <td>user1</td>\n",
       "      <td>888888882</td>\n",
       "    </tr>\n",
       "    <tr>\n",
       "      <th>2</th>\n",
       "      <td>user3</td>\n",
       "      <td>777777771</td>\n",
       "    </tr>\n",
       "    <tr>\n",
       "      <th>3</th>\n",
       "      <td>user2</td>\n",
       "      <td>777777234</td>\n",
       "    </tr>\n",
       "    <tr>\n",
       "      <th>4</th>\n",
       "      <td>user2</td>\n",
       "      <td>823232351</td>\n",
       "    </tr>\n",
       "    <tr>\n",
       "      <th>5</th>\n",
       "      <td>user5</td>\n",
       "      <td>734452343</td>\n",
       "    </tr>\n",
       "    <tr>\n",
       "      <th>6</th>\n",
       "      <td>user5</td>\n",
       "      <td>943433434</td>\n",
       "    </tr>\n",
       "    <tr>\n",
       "      <th>7</th>\n",
       "      <td>user5</td>\n",
       "      <td>834323434</td>\n",
       "    </tr>\n",
       "    <tr>\n",
       "      <th>9</th>\n",
       "      <td>user1</td>\n",
       "      <td>9994433777</td>\n",
       "    </tr>\n",
       "  </tbody>\n",
       "</table>\n",
       "</div>"
      ],
      "text/plain": [
       "  username      mobile\n",
       "0    user1   999999991\n",
       "1    user1   888888882\n",
       "2    user3   777777771\n",
       "3    user2   777777234\n",
       "4    user2   823232351\n",
       "5    user5   734452343\n",
       "6    user5   943433434\n",
       "7    user5   834323434\n",
       "9    user1  9994433777"
      ]
     },
     "execution_count": 32,
     "metadata": {},
     "output_type": "execute_result"
    }
   ],
   "source": [
    "df = df.drop_duplicates()\n",
    "df"
   ]
  },
  {
   "cell_type": "code",
   "execution_count": 36,
   "metadata": {},
   "outputs": [
    {
     "data": {
      "text/html": [
       "<div>\n",
       "<style scoped>\n",
       "    .dataframe tbody tr th:only-of-type {\n",
       "        vertical-align: middle;\n",
       "    }\n",
       "\n",
       "    .dataframe tbody tr th {\n",
       "        vertical-align: top;\n",
       "    }\n",
       "\n",
       "    .dataframe thead th {\n",
       "        text-align: right;\n",
       "    }\n",
       "</style>\n",
       "<table border=\"1\" class=\"dataframe\">\n",
       "  <thead>\n",
       "    <tr style=\"text-align: right;\">\n",
       "      <th></th>\n",
       "      <th>username</th>\n",
       "      <th>mobile_count</th>\n",
       "    </tr>\n",
       "  </thead>\n",
       "  <tbody>\n",
       "    <tr>\n",
       "      <th>0</th>\n",
       "      <td>user1</td>\n",
       "      <td>3</td>\n",
       "    </tr>\n",
       "    <tr>\n",
       "      <th>1</th>\n",
       "      <td>user2</td>\n",
       "      <td>2</td>\n",
       "    </tr>\n",
       "    <tr>\n",
       "      <th>2</th>\n",
       "      <td>user3</td>\n",
       "      <td>1</td>\n",
       "    </tr>\n",
       "    <tr>\n",
       "      <th>3</th>\n",
       "      <td>user5</td>\n",
       "      <td>3</td>\n",
       "    </tr>\n",
       "  </tbody>\n",
       "</table>\n",
       "</div>"
      ],
      "text/plain": [
       "  username  mobile_count\n",
       "0    user1             3\n",
       "1    user2             2\n",
       "2    user3             1\n",
       "3    user5             3"
      ]
     },
     "execution_count": 36,
     "metadata": {},
     "output_type": "execute_result"
    }
   ],
   "source": [
    "df.groupby('username').size().reset_index(name='mobile_count')"
   ]
  },
  {
   "cell_type": "code",
   "execution_count": null,
   "metadata": {},
   "outputs": [],
   "source": []
  }
 ],
 "metadata": {
  "kernelspec": {
   "display_name": "Python 3",
   "language": "python",
   "name": "python3"
  },
  "language_info": {
   "codemirror_mode": {
    "name": "ipython",
    "version": 3
   },
   "file_extension": ".py",
   "mimetype": "text/x-python",
   "name": "python",
   "nbconvert_exporter": "python",
   "pygments_lexer": "ipython3",
   "version": "3.9.6"
  }
 },
 "nbformat": 4,
 "nbformat_minor": 2
}
