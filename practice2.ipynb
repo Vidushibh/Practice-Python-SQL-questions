{
 "cells": [
  {
   "cell_type": "markdown",
   "metadata": {},
   "source": [
    "Question1 : \n",
    "Given an array arr[] of n integers, construct a new_arr[] (of the same size) \n",
    "\n",
    "such that prod[i] is equal to the product of all the elements of arr[] except arr[i]. \n",
    "\n",
    "Note: Solve it without the division operator in O(n) time.\n",
    "\n",
    "Input: arr[] = {10, 3, 5, 6, 2}\n",
    "Output: prod[] = {180, 600, 360, 300, 900}"
   ]
  },
  {
   "cell_type": "code",
   "execution_count": 1,
   "metadata": {},
   "outputs": [
    {
     "data": {
      "text/plain": [
       "[180, 600, 360, 300, 900]"
      ]
     },
     "execution_count": 1,
     "metadata": {},
     "output_type": "execute_result"
    }
   ],
   "source": [
    "arr = [10,3,5,6,2]\n",
    "prod = 1\n",
    "new_arr = []\n",
    "for i in range(len(arr)):\n",
    "    prod = int(prod*arr[i])\n",
    "\n",
    "for i in range(len(arr)):\n",
    "    new_arr.append(int(prod/arr[i]))\n",
    "new_arr"
   ]
  },
  {
   "cell_type": "code",
   "execution_count": 2,
   "metadata": {},
   "outputs": [
    {
     "data": {
      "text/plain": [
       "[180, 600, 360, 300, 900]"
      ]
     },
     "execution_count": 2,
     "metadata": {},
     "output_type": "execute_result"
    }
   ],
   "source": [
    "arr = [10,3,5,6,2]\n",
    "index = 0\n",
    "prod = 1\n",
    "new_arr  = []\n",
    "while(index < len(arr)):\n",
    "    for i in range(len(arr)):\n",
    "        if i != index:\n",
    "            prod = prod*arr[i]\n",
    "        else:\n",
    "            prod = prod*1\n",
    "    new_arr.append(prod)\n",
    "    index = index+1\n",
    "    prod = 1\n",
    "new_arr"
   ]
  },
  {
   "cell_type": "code",
   "execution_count": 3,
   "metadata": {},
   "outputs": [
    {
     "name": "stdout",
     "output_type": "stream",
     "text": [
      "[180, 600, 360, 300, 900]\n"
     ]
    }
   ],
   "source": [
    "arr = [10,3,5,6,2]\n",
    "n = len(arr)\n",
    "left_prod = [1]*n\n",
    "\n",
    "for i in range(1,n):\n",
    "    left_prod[i] = left_prod[i-1] * arr[i-1]\n",
    "\n",
    "right_prod = [1]*n\n",
    "for i in range(n-2,-1,-1):\n",
    "    right_prod[i]=right_prod[i+1] * arr[i+1]\n",
    "\n",
    "prod = [1] * n\n",
    "for i in range(n):\n",
    "    prod[i] = left_prod[i] * right_prod[i]  \n",
    "print(prod)"
   ]
  },
  {
   "cell_type": "markdown",
   "metadata": {},
   "source": [
    "Question 3 Given an array of integers arr[] of size N and an integer, the task is to \n",
    "\n",
    "rotate the array elements to the left by d positions.\n",
    "\n",
    "Input: arr[] = {1, 2, 3, 4, 5, 6, 7}, d = 2\n",
    "\n",
    "Output: 3 4 5 6 7 1 2"
   ]
  },
  {
   "cell_type": "code",
   "execution_count": 4,
   "metadata": {},
   "outputs": [
    {
     "data": {
      "text/plain": [
       "[3, 4, 5, 6, 7, 1, 2]"
      ]
     },
     "execution_count": 4,
     "metadata": {},
     "output_type": "execute_result"
    }
   ],
   "source": [
    "arr = [1,2,3,4,5,6,7]\n",
    "d = 2\n",
    "new_arr = []\n",
    "j=0\n",
    "for i in range(len(arr)):\n",
    "    if i+d <= len(arr)-1:\n",
    "        new_arr.append(arr[i+d])\n",
    "    elif j < d:\n",
    "        new_arr.append(arr[j])\n",
    "        j= j+1\n",
    "\n",
    "new_arr"
   ]
  }
 ],
 "metadata": {
  "kernelspec": {
   "display_name": "Python 3",
   "language": "python",
   "name": "python3"
  },
  "language_info": {
   "codemirror_mode": {
    "name": "ipython",
    "version": 3
   },
   "file_extension": ".py",
   "mimetype": "text/x-python",
   "name": "python",
   "nbconvert_exporter": "python",
   "pygments_lexer": "ipython3",
   "version": "3.9.6"
  }
 },
 "nbformat": 4,
 "nbformat_minor": 2
}
